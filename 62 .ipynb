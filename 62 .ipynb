{
 "cells": [
  {
   "cell_type": "code",
   "execution_count": 1,
   "metadata": {},
   "outputs": [
    {
     "name": "stdout",
     "output_type": "stream",
     "text": [
      "3 2 1 1 0 "
     ]
    }
   ],
   "source": [
    "def reversefibonacci(n):\n",
    "    a=[0]*n\n",
    "    a[0]=0\n",
    "    a[1]=1\n",
    "    for i in range (2,n):\n",
    "        a[i] = a[i-2] + a[i- 1]\n",
    "    for i in range(n - 1,-1,-1):\n",
    "        print(a[i],end=\" \")\n",
    "n = 5\n",
    "reversefibonacci(n)\n",
    "        "
   ]
  },
  {
   "cell_type": "code",
   "execution_count": 2,
   "metadata": {},
   "outputs": [
    {
     "name": "stdout",
     "output_type": "stream",
     "text": [
      "enter the number6\n",
      "1\n",
      "3\n",
      "9\n",
      "27\n",
      "81\n",
      "243\n"
     ]
    }
   ],
   "source": [
    "n=int(input(\"enter the number\"))\n",
    "i=1\n",
    "sum=1\n",
    "while i<=n:\n",
    "    print(sum)\n",
    "    sum=sum*3\n",
    "    i=i+1"
   ]
  },
  {
   "cell_type": "code",
   "execution_count": 3,
   "metadata": {},
   "outputs": [
    {
     "name": "stdout",
     "output_type": "stream",
     "text": [
      "enter the number6\n",
      "1\n",
      "2\n",
      "4\n",
      "8\n",
      "16\n",
      "32\n"
     ]
    }
   ],
   "source": [
    "n=int(input(\"enter the number\"))\n",
    "i=1\n",
    "sum=1\n",
    "while i<=n:\n",
    "    print(sum)\n",
    "    sum=sum*2\n",
    "    i=i+1"
   ]
  },
  {
   "cell_type": "code",
   "execution_count": 4,
   "metadata": {},
   "outputs": [
    {
     "name": "stdout",
     "output_type": "stream",
     "text": [
      "1 3\n",
      "8 15 27 50 92 169 311 572 1052 1935 3559 "
     ]
    }
   ],
   "source": [
    "a=1\n",
    "b=3\n",
    "c=4\n",
    "n=10\n",
    "sum=0\n",
    "i=0\n",
    "print(a,b)\n",
    "while(i<=n):\n",
    "        sum=a+b+c\n",
    "        print(sum,end=\" \")  \n",
    "        a=b\n",
    "        b=c\n",
    "        c=sum\n",
    "        i=i+1"
   ]
  },
  {
   "cell_type": "code",
   "execution_count": 5,
   "metadata": {},
   "outputs": [
    {
     "name": "stdout",
     "output_type": "stream",
     "text": [
      "enter number6\n",
      "2\n",
      "15\n",
      "41\n",
      "80\n",
      "132\n",
      "197\n",
      "275\n"
     ]
    }
   ],
   "source": [
    "a=2\n",
    "i=1\n",
    "c=13\n",
    "n=int(input(\"enter number\"))\n",
    "print(a)\n",
    "while i<=n:\n",
    "        a=a+c*i\n",
    "        print(a)\n",
    "        i=i+1"
   ]
  },
  {
   "cell_type": "code",
   "execution_count": 10,
   "metadata": {
    "scrolled": true
   },
   "outputs": [
    {
     "name": "stdout",
     "output_type": "stream",
     "text": [
      "enter the number5\n",
      "153\n"
     ]
    }
   ],
   "source": [
    "n=int(input(\"enter the number\"))\n",
    "sum=0\n",
    "a=1\n",
    "i=1\n",
    "while i<=n:\n",
    "    a=a*i\n",
    "    sum=sum+a\n",
    "    i=i+1\n",
    "print(sum)"
   ]
  },
  {
   "cell_type": "code",
   "execution_count": 11,
   "metadata": {},
   "outputs": [
    {
     "name": "stdout",
     "output_type": "stream",
     "text": [
      "enter number5\n",
      "2\n",
      "15\n",
      "41\n",
      "80\n",
      "132\n",
      "197\n"
     ]
    }
   ],
   "source": [
    "a=2\n",
    "i=1\n",
    "c=13\n",
    "n=int(input(\"enter number\"))\n",
    "print(a)\n",
    "while i<=n:\n",
    "    a=a+c*i\n",
    "    print(a)\n",
    "    i=i+1"
   ]
  },
  {
   "cell_type": "code",
   "execution_count": 12,
   "metadata": {},
   "outputs": [
    {
     "name": "stdout",
     "output_type": "stream",
     "text": [
      "enter the number6\n",
      "9\n",
      "17\n"
     ]
    }
   ],
   "source": [
    "\n",
    "n=int(input(\"enter the number\"))\n",
    "i=1\n",
    "j=1\n",
    "a=8\n",
    "b=1\n",
    "c=n/2\n",
    "while i<=c:\n",
    "    while j<=2:\n",
    "        b=b+a\n",
    "        print(b)\n",
    "        j=j+1\n",
    "    a=a+8\n",
    "    i=i+1\n"
   ]
  },
  {
   "cell_type": "code",
   "execution_count": 17,
   "metadata": {},
   "outputs": [
    {
     "ename": "IndentationError",
     "evalue": "unindent does not match any outer indentation level (<tokenize>, line 6)",
     "output_type": "error",
     "traceback": [
      "\u001b[1;36m  File \u001b[1;32m\"<tokenize>\"\u001b[1;36m, line \u001b[1;32m6\u001b[0m\n\u001b[1;33m    for i in range(0, n):\u001b[0m\n\u001b[1;37m    ^\u001b[0m\n\u001b[1;31mIndentationError\u001b[0m\u001b[1;31m:\u001b[0m unindent does not match any outer indentation level\n"
     ]
    }
   ],
   "source": [
    "\n",
    "def LongestWordLength(str): \n",
    "    n = len(str) \n",
    "    res = 0; curr_len = 0\n",
    "  \n",
    "  for i in range(0, n): \n",
    "    \n",
    "     \n",
    "    if (str[i] != ' '): \n",
    "        curr_len += 1\n",
    "    \n",
    "    else: \n",
    "        res = max(res, curr_len) \n",
    "        curr_len = 0\n",
    "\n",
    "    return max(res, curr_len) \n",
    "\n",
    "s = (\"gitam university is located in rudraram\")\n",
    "print(LongestWordLength(s)) "
   ]
  },
  {
   "cell_type": "code",
   "execution_count": 18,
   "metadata": {},
   "outputs": [
    {
     "name": "stdout",
     "output_type": "stream",
     "text": [
      "|****\n",
      "|*\n",
      "|***\n",
      "|**\n",
      "|*****\n"
     ]
    }
   ],
   "source": [
    "def pattern(n): \n",
    "\tfor i in n:  \n",
    "\t\tprint(\"|\", end = \"\") \n",
    "\t\tprint(\"*\" * int(i)) \n",
    "n = \"41325\"\n",
    "pattern(n) \n"
   ]
  },
  {
   "cell_type": "code",
   "execution_count": 19,
   "metadata": {},
   "outputs": [
    {
     "name": "stdout",
     "output_type": "stream",
     "text": [
      "27\n"
     ]
    }
   ],
   "source": [
    "def input3(n):\n",
    "    if n%2==1:\n",
    "        print(2**(n//2))\n",
    "    if n%2==0:\n",
    "        print(3**(n//2))\n",
    "input3(6)"
   ]
  },
  {
   "cell_type": "code",
   "execution_count": null,
   "metadata": {},
   "outputs": [],
   "source": []
  }
 ],
 "metadata": {
  "kernelspec": {
   "display_name": "Python 3",
   "language": "python",
   "name": "python3"
  },
  "language_info": {
   "codemirror_mode": {
    "name": "ipython",
    "version": 3
   },
   "file_extension": ".py",
   "mimetype": "text/x-python",
   "name": "python",
   "nbconvert_exporter": "python",
   "pygments_lexer": "ipython3",
   "version": "3.7.3"
  }
 },
 "nbformat": 4,
 "nbformat_minor": 2
}
