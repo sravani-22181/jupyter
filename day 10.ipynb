{
 "cells": [
  {
   "cell_type": "markdown",
   "metadata": {},
   "source": [
    "### Standard Libraries\n",
    "- File I/O\n",
    "- Regular Expression\n",
    "- Datetime\n",
    "- Math (numerical and mathematical)"
   ]
  },
  {
   "cell_type": "code",
   "execution_count": null,
   "metadata": {},
   "outputs": [],
   "source": []
  },
  {
   "cell_type": "markdown",
   "metadata": {},
   "source": [
    "### Files Handling in Python\n",
    "- Files:- Document containing information resides on the permanenet storage\n",
    "- Different types of file:- txt,pdf,doc,csv and etc..\n",
    "- Input -- keyboard\n",
    "- Output -- File\n",
    "### Modes of the File I/O\n",
    "- 'w' -- this mode is used to file writing\n",
    "\n",
    "   -- if thefile is not present first it creates the file and write so me data to it "
   ]
  },
  {
   "cell_type": "code",
   "execution_count": 3,
   "metadata": {},
   "outputs": [
    {
     "name": "stdout",
     "output_type": "stream",
     "text": [
      "Files is created and data has written\n"
     ]
    }
   ],
   "source": [
    "# function to creat a file and write to the file \n",
    "def createFile(filename):\n",
    "    f = open(filename,'w')\n",
    "    for i in range(10):\n",
    "        f.write('This is %d Line\\n' % i)\n",
    "    print(\"Files is created and data has written\")\n",
    "    return\n",
    "createFile('file1.txt')\n",
    "    "
   ]
  },
  {
   "cell_type": "code",
   "execution_count": 4,
   "metadata": {},
   "outputs": [
    {
     "name": "stdout",
     "output_type": "stream",
     "text": [
      " Volume in drive C has no label.\n",
      " Volume Serial Number is 4494-0940\n",
      "\n",
      " Directory of C:\\Users\\USER\n",
      "\n",
      "11-07-2019  09:50    <DIR>          .\n",
      "11-07-2019  09:50    <DIR>          ..\n",
      "05-07-2019  11:51    <DIR>          .anaconda\n",
      "05-07-2019  17:12             3,167 .bash_history\n",
      "09-07-2019  16:00    <DIR>          .conda\n",
      "09-07-2019  11:22                43 .condarc\n",
      "11-07-2019  09:18    <DIR>          .ipynb_checkpoints\n",
      "05-07-2019  11:56    <DIR>          .ipython\n",
      "05-07-2019  14:00    <DIR>          .jupyter\n",
      "10-07-2019  15:56             6,531 62 .ipynb\n",
      "05-07-2019  11:50    <DIR>          Anaconda3\n",
      "03-07-2019  09:30    <DIR>          Contacts\n",
      "11-07-2019  09:50             2,859 day 10.ipynb\n",
      "05-07-2019  09:20    <DIR>          Desktop\n",
      "05-07-2019  15:29    <DIR>          Documents\n",
      "11-07-2019  09:44    <DIR>          Downloads\n",
      "03-07-2019  09:30    <DIR>          Favorites\n",
      "11-07-2019  09:50               140 file1.txt\n",
      "03-07-2019  09:30    <DIR>          Links\n",
      "03-07-2019  09:30    <DIR>          Music\n",
      "10-07-2019  11:00             2,500 nithya.ipynb\n",
      "03-07-2019  09:30    <DIR>          Pictures\n",
      "04-07-2019  14:55    <DIR>          problemsolving\n",
      "05-07-2019  09:19    <DIR>          pythonprog\n",
      "03-07-2019  09:30    <DIR>          Saved Games\n",
      "03-07-2019  09:30    <DIR>          Searches\n",
      "10-07-2019  16:24            61,480 Untitled.ipynb\n",
      "03-07-2019  09:30    <DIR>          Videos\n",
      "               7 File(s)         76,720 bytes\n",
      "              21 Dir(s)  30,601,261,056 bytes free\n"
     ]
    }
   ],
   "source": [
    "ls"
   ]
  },
  {
   "cell_type": "code",
   "execution_count": 5,
   "metadata": {},
   "outputs": [
    {
     "name": "stdout",
     "output_type": "stream",
     "text": [
      "File is created and data has written\n"
     ]
    }
   ],
   "source": [
    "def createFile(filename):\n",
    "    f=open(filename,'w')\n",
    "    f.write('Testing.../n')\n",
    "    print(\"File is created and data has written\")\n",
    "    return\n",
    "createFile('file1.txt')\n",
    "    "
   ]
  },
  {
   "cell_type": "code",
   "execution_count": 6,
   "metadata": {},
   "outputs": [
    {
     "name": "stdout",
     "output_type": "stream",
     "text": [
      "This is0 Line\n",
      "\n",
      "This is1 Line\n",
      "\n",
      "This is2 Line\n",
      "\n",
      "This is3 Line\n",
      "\n",
      "This is4 Line\n",
      "\n",
      "This is5 Line\n",
      "\n",
      "This is6 Line\n",
      "\n",
      "This is7 Line\n",
      "\n",
      "This is8 Line\n",
      "\n",
      "This is9 Line\n",
      "\n",
      "File created and successfullydata written\n"
     ]
    }
   ],
   "source": [
    "def appendData(filename):\n",
    "    f = open(filename,'a')\n",
    "    for i in range(10):\n",
    "        print(\"This is%d Line\\n\" % i)\n",
    "    print(\"File created and successfullydata written\")\n",
    "    return\n",
    "appendData('file2.txt')"
   ]
  },
  {
   "cell_type": "code",
   "execution_count": 7,
   "metadata": {},
   "outputs": [
    {
     "name": "stdout",
     "output_type": "stream",
     "text": [
      "file created and succesfully data written\n"
     ]
    }
   ],
   "source": [
    "def appendData(filename):\n",
    "    f = open(filename,'a')\n",
    "    f.write(\"New Line 1 \\n\")\n",
    "    f.write(\"New Line 2 \\n\")\n",
    "    print(\"file created and succesfully data written\")\n",
    "    return\n",
    "appendData('file2.txt')"
   ]
  },
  {
   "cell_type": "code",
   "execution_count": 9,
   "metadata": {},
   "outputs": [
    {
     "name": "stdout",
     "output_type": "stream",
     "text": [
      "New Line 1 \n",
      "New Line 2 \n",
      "\n"
     ]
    }
   ],
   "source": [
    "# function to read of the file\n",
    "def readFileData(filename):\n",
    "    f = open(filename,'r')\n",
    "    if f.mode =='r':\n",
    "        x= f.read()\n",
    "        print(x)\n",
    "    f.close()   \n",
    "    return\n",
    "readFileData('file2.txt')"
   ]
  },
  {
   "cell_type": "code",
   "execution_count": 1,
   "metadata": {},
   "outputs": [
    {
     "name": "stdout",
     "output_type": "stream",
     "text": [
      "enter the file namenamedata.txt\n",
      "enter the mode of the filea\n",
      "the data successfully written\n"
     ]
    }
   ],
   "source": [
    "\n",
    "# function to read the file\n",
    "def fileoperations(filename,mode):\n",
    "    with open(filename,mode) as f:\n",
    "        if f.mode == 'r':\n",
    "            data = f.read()\n",
    "            print(data)\n",
    "        elif f.mode == 'a':\n",
    "            f.write('data to the file\\n')\n",
    "            print('the data successfully written')\n",
    "        f.close       \n",
    "    return\n",
    "filename = input('enter the file name')\n",
    "mode = input('enter the mode of the file')\n",
    "fileoperations(filename,mode)"
   ]
  },
  {
   "cell_type": "code",
   "execution_count": 2,
   "metadata": {},
   "outputs": [
    {
     "name": "stdout",
     "output_type": "stream",
     "text": [
      "enter the file name:file2.txt\n",
      "enter the word : this\n"
     ]
    },
    {
     "data": {
      "text/plain": [
       "0"
      ]
     },
     "execution_count": 2,
     "metadata": {},
     "output_type": "execute_result"
    }
   ],
   "source": [
    "# data analysis\n",
    "# word count program\n",
    "def wordcount(filename,word):\n",
    "    with open(filename,'r') as f:\n",
    "        if f.mode == 'r' :\n",
    "            x =  f.read()\n",
    "            li = x.split()\n",
    "    cnt = li.count(word)        \n",
    "    return cnt\n",
    "filename = input('enter the file name:')\n",
    "word = input('enter the word : ')\n",
    "wordcount(filename,word)"
   ]
  },
  {
   "cell_type": "code",
   "execution_count": 3,
   "metadata": {},
   "outputs": [
    {
     "name": "stdout",
     "output_type": "stream",
     "text": [
      "enter the filename:file2.txt\n"
     ]
    },
    {
     "data": {
      "text/plain": [
       "24"
      ]
     },
     "execution_count": 3,
     "metadata": {},
     "output_type": "execute_result"
    }
   ],
   "source": [
    "\n",
    "# character count from the given file\n",
    "def charcount(filename):\n",
    "    with open(filename,'r') as f:\n",
    "        if f.mode=='r':\n",
    "            x=f.read()\n",
    "            li=list(x)\n",
    "    return len(li)\n",
    "filename=input('enter the filename:')\n",
    "charcount(filename)"
   ]
  },
  {
   "cell_type": "code",
   "execution_count": 4,
   "metadata": {},
   "outputs": [
    {
     "name": "stdout",
     "output_type": "stream",
     "text": [
      "['pytho', ' programmi', 'g']\n"
     ]
    }
   ],
   "source": [
    "\n",
    "s1 = \"python programming\"\n",
    "print(s1.split('n'))"
   ]
  },
  {
   "cell_type": "code",
   "execution_count": 5,
   "metadata": {},
   "outputs": [
    {
     "name": "stdout",
     "output_type": "stream",
     "text": [
      "enter the filename : file2.txt\n"
     ]
    },
    {
     "data": {
      "text/plain": [
       "3"
      ]
     },
     "execution_count": 5,
     "metadata": {},
     "output_type": "execute_result"
    }
   ],
   "source": [
    "\n",
    "# function to find the no of lines in the input file\n",
    "# Input -- filename(file2.txt)\n",
    "# output -- no of lines(12)\n",
    "def countoflines(filename):\n",
    "    with open(filename,'r') as f:\n",
    "        if f.mode == 'r':\n",
    "            x = f.read()\n",
    "            li = x.split(\"\\n\")\n",
    "    return len(li)\n",
    "filename = input('enter the filename : ')\n",
    "countoflines(filename)"
   ]
  },
  {
   "cell_type": "code",
   "execution_count": 6,
   "metadata": {},
   "outputs": [
    {
     "name": "stdout",
     "output_type": "stream",
     "text": [
      "enter the filename:file2.txt\n"
     ]
    },
    {
     "data": {
      "text/plain": [
       "'Upper Case= 4,Lower Case = 10'"
      ]
     },
     "execution_count": 6,
     "metadata": {},
     "output_type": "execute_result"
    }
   ],
   "source": [
    "\n",
    "# Function to print the upper case and lower charcters\n",
    "def casecount(filename):\n",
    "    cntUpper=0\n",
    "    cntLower=0\n",
    "    with open(filename,'r') as f:\n",
    "        if f.mode=='r':\n",
    "            x=f.read()\n",
    "            li=list(x)\n",
    "    for i in li:\n",
    "        if i.isupper():\n",
    "            cntUpper+=1 # cntUpper=cntUpper+1\n",
    "        elif i.islower():\n",
    "            cntLower+=1 # cntLower=cntLower+1\n",
    "    output='Upper Case= {0},Lower Case = {1}'.format(cntUpper,cntLower)\n",
    "    return output\n",
    "filename=input('enter the filename:')\n",
    "casecount(filename)\n",
    "\n",
    "        "
   ]
  },
  {
   "cell_type": "markdown",
   "metadata": {},
   "source": [
    "### Math,Random,.Os\n",
    "- os package :it contains the certain methods which work with os"
   ]
  },
  {
   "cell_type": "code",
   "execution_count": 7,
   "metadata": {},
   "outputs": [
    {
     "name": "stdout",
     "output_type": "stream",
     "text": [
      " Volume in drive C has no label.\n",
      " Volume Serial Number is 4494-0940\n",
      "\n",
      " Directory of C:\\Users\\USER\n",
      "\n",
      "11-07-2019  13:00    <DIR>          .\n",
      "11-07-2019  13:00    <DIR>          ..\n",
      "05-07-2019  11:51    <DIR>          .anaconda\n",
      "05-07-2019  17:12             3,167 .bash_history\n",
      "11-07-2019  12:59    <DIR>          .conda\n",
      "11-07-2019  12:45                43 .condarc\n",
      "11-07-2019  10:35    <DIR>          .ipynb_checkpoints\n",
      "05-07-2019  11:56    <DIR>          .ipython\n",
      "05-07-2019  14:00    <DIR>          .jupyter\n",
      "10-07-2019  15:56             6,531 62 .ipynb\n",
      "05-07-2019  11:50    <DIR>          Anaconda3\n",
      "03-07-2019  09:30    <DIR>          Contacts\n",
      "11-07-2019  13:00            11,422 day 10.ipynb\n",
      "05-07-2019  09:20    <DIR>          Desktop\n",
      "11-07-2019  11:17    <DIR>          Documents\n",
      "11-07-2019  09:44    <DIR>          Downloads\n",
      "03-07-2019  09:30    <DIR>          Favorites\n",
      "11-07-2019  09:59                12 file.txt\n",
      "11-07-2019  09:50               140 file1.txt\n",
      "11-07-2019  10:11                26 file2.txt\n",
      "03-07-2019  09:30    <DIR>          Links\n",
      "03-07-2019  09:30    <DIR>          Music\n",
      "11-07-2019  12:51                18 namedata.txt\n",
      "10-07-2019  11:00             2,500 nithya.ipynb\n",
      "03-07-2019  09:30    <DIR>          Pictures\n",
      "04-07-2019  14:55    <DIR>          problemsolving\n",
      "05-07-2019  09:19    <DIR>          pythonprog\n",
      "03-07-2019  09:30    <DIR>          Saved Games\n",
      "03-07-2019  09:30    <DIR>          Searches\n",
      "10-07-2019  16:24            61,480 Untitled.ipynb\n",
      "11-07-2019  10:37             2,317 Untitled1.ipynb\n",
      "03-07-2019  09:30    <DIR>          Videos\n",
      "              11 File(s)         87,656 bytes\n",
      "              21 Dir(s)  30,587,994,112 bytes free\n"
     ]
    }
   ],
   "source": [
    "ls"
   ]
  },
  {
   "cell_type": "code",
   "execution_count": 1,
   "metadata": {},
   "outputs": [
    {
     "name": "stdout",
     "output_type": "stream",
     "text": [
      "C:\\Users\\USER\\Desktop\n"
     ]
    }
   ],
   "source": [
    "cd Desktop"
   ]
  },
  {
   "cell_type": "code",
   "execution_count": 5,
   "metadata": {},
   "outputs": [
    {
     "name": "stdout",
     "output_type": "stream",
     "text": [
      " Volume in drive C has no label.\n",
      " Volume Serial Number is 4494-0940\n",
      "\n",
      " Directory of C:\\Users\\USER\\Desktop\n",
      "\n",
      "05-07-2019  09:20    <DIR>          .\n",
      "05-07-2019  09:20    <DIR>          ..\n",
      "03-07-2019  10:29             4,605 1.rap\n",
      "03-07-2019  10:01             3,404 1.rap.backup0\n",
      "03-07-2019  10:07             3,519 1.rap.backup1\n",
      "03-07-2019  10:12             4,363 1.rap.backup2\n",
      "04-07-2019  10:25    <DIR>          GIT\n",
      "03-07-2019  15:06    <DIR>          New folder\n",
      "08-07-2019  12:21    <DIR>          PITANNN\n",
      "04-07-2019  12:05    <DIR>          problemsolvingandprogramming\n",
      "05-07-2019  09:21    <DIR>          pythonprog\n",
      "03-07-2019  09:43             2,575 RAPTOR.lnk\n",
      "               5 File(s)         18,466 bytes\n",
      "               7 Dir(s)  30,081,359,872 bytes free\n"
     ]
    }
   ],
   "source": [
    "ls"
   ]
  },
  {
   "cell_type": "code",
   "execution_count": null,
   "metadata": {},
   "outputs": [],
   "source": []
  },
  {
   "cell_type": "markdown",
   "metadata": {},
   "source": [
    "### Listing  all files in a DIRECTORY"
   ]
  },
  {
   "cell_type": "code",
   "execution_count": 35,
   "metadata": {},
   "outputs": [],
   "source": [
    "import os\n",
    "dirpath = \"Git/\"\n",
    "for i in os.listdir(dirpath):\n",
    "    if os.path.isfile(os.path.join(dirpath,i)):\n",
    "        print(i)\n",
    "        \n",
    "        \n"
   ]
  },
  {
   "cell_type": "code",
   "execution_count": 15,
   "metadata": {},
   "outputs": [
    {
     "data": {
      "text/plain": [
       "'C:\\\\Users\\\\USER\\\\Desktop'"
      ]
     },
     "execution_count": 15,
     "metadata": {},
     "output_type": "execute_result"
    }
   ],
   "source": [
    "pwd"
   ]
  },
  {
   "cell_type": "code",
   "execution_count": 38,
   "metadata": {},
   "outputs": [],
   "source": [
    "import os\n",
    "dirpath ='Git/'\n",
    "with os.scandir(dirpath) as f:\n",
    "    for i in f:\n",
    "        if i.is_file():\n",
    "            print(i.name)"
   ]
  },
  {
   "cell_type": "code",
   "execution_count": 37,
   "metadata": {},
   "outputs": [
    {
     "name": "stdout",
     "output_type": "stream",
     "text": [
      "C:\\Users\\USER\\Desktop\n"
     ]
    }
   ],
   "source": [
    "cd C:\\Users\\USER\\Desktop"
   ]
  },
  {
   "cell_type": "markdown",
   "metadata": {},
   "source": [
    "### Listing subdirectories"
   ]
  },
  {
   "cell_type": "code",
   "execution_count": 39,
   "metadata": {},
   "outputs": [],
   "source": [
    "dirpath = 'Git/'\n",
    "for i in os.listdir(dirpath):\n",
    "    if os.path.isdir(os.path.join(dirpath,i)):\n",
    "        print(i)"
   ]
  },
  {
   "cell_type": "code",
   "execution_count": 41,
   "metadata": {},
   "outputs": [
    {
     "ename": "ImportError",
     "evalue": "cannot import name 'path' from 'pathlib' (C:\\Users\\USER\\Anaconda3\\lib\\pathlib.py)",
     "output_type": "error",
     "traceback": [
      "\u001b[1;31m---------------------------------------------------------------------------\u001b[0m",
      "\u001b[1;31mImportError\u001b[0m                               Traceback (most recent call last)",
      "\u001b[1;32m<ipython-input-41-8553dfe6840b>\u001b[0m in \u001b[0;36m<module>\u001b[1;34m\u001b[0m\n\u001b[1;32m----> 1\u001b[1;33m \u001b[1;32mfrom\u001b[0m \u001b[0mpathlib\u001b[0m \u001b[1;32mimport\u001b[0m \u001b[0mpath\u001b[0m\u001b[1;33m\u001b[0m\u001b[1;33m\u001b[0m\u001b[0m\n\u001b[0m\u001b[0;32m      2\u001b[0m \u001b[0mdirpath\u001b[0m \u001b[1;33m=\u001b[0m \u001b[0mpath\u001b[0m\u001b[1;33m(\u001b[0m\u001b[1;34m'Git/'\u001b[0m\u001b[1;33m)\u001b[0m\u001b[1;33m\u001b[0m\u001b[1;33m\u001b[0m\u001b[0m\n\u001b[0;32m      3\u001b[0m \u001b[1;32mfor\u001b[0m \u001b[0mi\u001b[0m \u001b[1;32min\u001b[0m \u001b[0mdirpath\u001b[0m\u001b[1;33m.\u001b[0m\u001b[0miterdir\u001b[0m\u001b[1;33m(\u001b[0m\u001b[1;33m)\u001b[0m\u001b[1;33m:\u001b[0m\u001b[1;33m\u001b[0m\u001b[1;33m\u001b[0m\u001b[0m\n\u001b[0;32m      4\u001b[0m     \u001b[1;32mif\u001b[0m \u001b[0mi\u001b[0m\u001b[1;33m.\u001b[0m\u001b[0mis_dir\u001b[0m\u001b[1;33m(\u001b[0m\u001b[1;33m)\u001b[0m\u001b[1;33m:\u001b[0m\u001b[1;33m\u001b[0m\u001b[1;33m\u001b[0m\u001b[0m\n\u001b[0;32m      5\u001b[0m         \u001b[0mprint\u001b[0m\u001b[1;33m(\u001b[0m\u001b[0mi\u001b[0m\u001b[1;33m.\u001b[0m\u001b[0mname\u001b[0m\u001b[1;33m)\u001b[0m\u001b[1;33m\u001b[0m\u001b[1;33m\u001b[0m\u001b[0m\n",
      "\u001b[1;31mImportError\u001b[0m: cannot import name 'path' from 'pathlib' (C:\\Users\\USER\\Anaconda3\\lib\\pathlib.py)"
     ]
    }
   ],
   "source": [
    "from pathlib import path\n",
    "dirpath = path('Git/')\n",
    "for i in dirpath.iterdir():\n",
    "    if i.is_dir():\n",
    "        print(i.name)"
   ]
  },
  {
   "cell_type": "code",
   "execution_count": null,
   "metadata": {},
   "outputs": [],
   "source": [
    "dirpath = 'Git/'\n",
    "with os.scandir(dir)"
   ]
  },
  {
   "cell_type": "markdown",
   "metadata": {},
   "source": [
    "### Creating a single Directory"
   ]
  },
  {
   "cell_type": "code",
   "execution_count": 8,
   "metadata": {},
   "outputs": [
    {
     "ename": "FileExistsError",
     "evalue": "[WinError 183] Cannot create a file when that file already exists: 'singleDirectory'",
     "output_type": "error",
     "traceback": [
      "\u001b[1;31m---------------------------------------------------------------------------\u001b[0m",
      "\u001b[1;31mFileExistsError\u001b[0m                           Traceback (most recent call last)",
      "\u001b[1;32m<ipython-input-8-a51928b52831>\u001b[0m in \u001b[0;36m<module>\u001b[1;34m\u001b[0m\n\u001b[0;32m      1\u001b[0m \u001b[1;32mimport\u001b[0m \u001b[0mos\u001b[0m\u001b[1;33m\u001b[0m\u001b[1;33m\u001b[0m\u001b[0m\n\u001b[1;32m----> 2\u001b[1;33m \u001b[0mos\u001b[0m\u001b[1;33m.\u001b[0m\u001b[0mmkdir\u001b[0m\u001b[1;33m(\u001b[0m\u001b[1;34m'singleDirectory'\u001b[0m\u001b[1;33m)\u001b[0m\u001b[1;33m\u001b[0m\u001b[1;33m\u001b[0m\u001b[0m\n\u001b[0m",
      "\u001b[1;31mFileExistsError\u001b[0m: [WinError 183] Cannot create a file when that file already exists: 'singleDirectory'"
     ]
    }
   ],
   "source": [
    "import os\n",
    "os.mkdir('singleDirectory')\n"
   ]
  },
  {
   "cell_type": "code",
   "execution_count": 6,
   "metadata": {},
   "outputs": [
    {
     "ename": "AttributeError",
     "evalue": "module 'pathlib' has no attribute 'path'",
     "output_type": "error",
     "traceback": [
      "\u001b[1;31m---------------------------------------------------------------------------\u001b[0m",
      "\u001b[1;31mAttributeError\u001b[0m                            Traceback (most recent call last)",
      "\u001b[1;32m<ipython-input-6-97f6d27df1cc>\u001b[0m in \u001b[0;36m<module>\u001b[1;34m\u001b[0m\n\u001b[0;32m      1\u001b[0m \u001b[1;32mimport\u001b[0m \u001b[0mpathlib\u001b[0m\u001b[1;33m\u001b[0m\u001b[1;33m\u001b[0m\u001b[0m\n\u001b[1;32m----> 2\u001b[1;33m \u001b[0mp\u001b[0m \u001b[1;33m=\u001b[0m \u001b[0mpathlib\u001b[0m\u001b[1;33m.\u001b[0m\u001b[0mpath\u001b[0m\u001b[1;33m(\u001b[0m\u001b[1;34m'TestFolder'\u001b[0m\u001b[1;33m)\u001b[0m\u001b[1;33m\u001b[0m\u001b[1;33m\u001b[0m\u001b[0m\n\u001b[0m\u001b[0;32m      3\u001b[0m \u001b[0mp\u001b[0m\u001b[1;33m.\u001b[0m\u001b[0mmkdir\u001b[0m\u001b[1;33m\u001b[0m\u001b[1;33m\u001b[0m\u001b[0m\n",
      "\u001b[1;31mAttributeError\u001b[0m: module 'pathlib' has no attribute 'path'"
     ]
    }
   ],
   "source": [
    "import pathlib\n",
    "p = pathlib.path('TestFolder')\n",
    "p.mkdir"
   ]
  },
  {
   "cell_type": "code",
   "execution_count": 7,
   "metadata": {},
   "outputs": [
    {
     "name": "stdout",
     "output_type": "stream",
     "text": [
      " Volume in drive C has no label.\n",
      " Volume Serial Number is 4494-0940\n",
      "\n",
      " Directory of C:\\Users\\USER\n",
      "\n",
      "11-07-2019  14:57    <DIR>          .\n",
      "11-07-2019  14:57    <DIR>          ..\n",
      "05-07-2019  11:51    <DIR>          .anaconda\n",
      "05-07-2019  17:12             3,167 .bash_history\n",
      "11-07-2019  14:59    <DIR>          .conda\n",
      "11-07-2019  12:45                43 .condarc\n",
      "11-07-2019  10:35    <DIR>          .ipynb_checkpoints\n",
      "05-07-2019  11:56    <DIR>          .ipython\n",
      "05-07-2019  14:00    <DIR>          .jupyter\n",
      "10-07-2019  15:56             6,531 62 .ipynb\n",
      "05-07-2019  11:50    <DIR>          Anaconda3\n",
      "03-07-2019  09:30    <DIR>          Contacts\n",
      "11-07-2019  14:57            20,991 day 10.ipynb\n",
      "05-07-2019  09:20    <DIR>          Desktop\n",
      "11-07-2019  11:17    <DIR>          Documents\n",
      "11-07-2019  14:52    <DIR>          Downloads\n",
      "03-07-2019  09:30    <DIR>          Favorites\n",
      "11-07-2019  09:59                12 file.txt\n",
      "11-07-2019  09:50               140 file1.txt\n",
      "11-07-2019  10:11                26 file2.txt\n",
      "03-07-2019  09:30    <DIR>          Links\n",
      "03-07-2019  09:30    <DIR>          Music\n",
      "11-07-2019  12:51                18 namedata.txt\n",
      "10-07-2019  11:00             2,500 nithya.ipynb\n",
      "03-07-2019  09:30    <DIR>          Pictures\n",
      "04-07-2019  14:55    <DIR>          problemsolving\n",
      "05-07-2019  09:19    <DIR>          pythonprog\n",
      "03-07-2019  09:30    <DIR>          Saved Games\n",
      "03-07-2019  09:30    <DIR>          Searches\n",
      "11-07-2019  14:57    <DIR>          singleDirectory\n",
      "10-07-2019  16:24            61,480 Untitled.ipynb\n",
      "11-07-2019  10:37             2,317 Untitled1.ipynb\n",
      "03-07-2019  09:30    <DIR>          Videos\n",
      "              11 File(s)         97,225 bytes\n",
      "              22 Dir(s)  30,074,109,952 bytes free\n"
     ]
    }
   ],
   "source": [
    "ls"
   ]
  },
  {
   "cell_type": "markdown",
   "metadata": {},
   "source": [
    "### Creating Multiple Directories"
   ]
  },
  {
   "cell_type": "code",
   "execution_count": 9,
   "metadata": {},
   "outputs": [],
   "source": [
    "import os \n",
    "os.makedirs('2019/july/11')"
   ]
  },
  {
   "cell_type": "code",
   "execution_count": 10,
   "metadata": {},
   "outputs": [
    {
     "name": "stdout",
     "output_type": "stream",
     "text": [
      " Volume in drive C has no label.\n",
      " Volume Serial Number is 4494-0940\n",
      "\n",
      " Directory of C:\\Users\\USER\n",
      "\n",
      "11-07-2019  15:09    <DIR>          .\n",
      "11-07-2019  15:09    <DIR>          ..\n",
      "05-07-2019  11:51    <DIR>          .anaconda\n",
      "05-07-2019  17:12             3,167 .bash_history\n",
      "11-07-2019  15:08    <DIR>          .conda\n",
      "11-07-2019  12:45                43 .condarc\n",
      "11-07-2019  10:35    <DIR>          .ipynb_checkpoints\n",
      "05-07-2019  11:56    <DIR>          .ipython\n",
      "05-07-2019  14:00    <DIR>          .jupyter\n",
      "11-07-2019  15:09    <DIR>          2019\n",
      "10-07-2019  15:56             6,531 62 .ipynb\n",
      "05-07-2019  11:50    <DIR>          Anaconda3\n",
      "03-07-2019  09:30    <DIR>          Contacts\n",
      "11-07-2019  15:05            24,515 day 10.ipynb\n",
      "05-07-2019  09:20    <DIR>          Desktop\n",
      "11-07-2019  11:17    <DIR>          Documents\n",
      "11-07-2019  14:52    <DIR>          Downloads\n",
      "03-07-2019  09:30    <DIR>          Favorites\n",
      "11-07-2019  09:59                12 file.txt\n",
      "11-07-2019  09:50               140 file1.txt\n",
      "11-07-2019  10:11                26 file2.txt\n",
      "03-07-2019  09:30    <DIR>          Links\n",
      "03-07-2019  09:30    <DIR>          Music\n",
      "11-07-2019  12:51                18 namedata.txt\n",
      "10-07-2019  11:00             2,500 nithya.ipynb\n",
      "03-07-2019  09:30    <DIR>          Pictures\n",
      "04-07-2019  14:55    <DIR>          problemsolving\n",
      "05-07-2019  09:19    <DIR>          pythonprog\n",
      "03-07-2019  09:30    <DIR>          Saved Games\n",
      "03-07-2019  09:30    <DIR>          Searches\n",
      "11-07-2019  14:57    <DIR>          singleDirectory\n",
      "10-07-2019  16:24            61,480 Untitled.ipynb\n",
      "11-07-2019  10:37             2,317 Untitled1.ipynb\n",
      "03-07-2019  09:30    <DIR>          Videos\n",
      "              11 File(s)        100,749 bytes\n",
      "              23 Dir(s)  30,072,397,824 bytes free\n"
     ]
    }
   ],
   "source": [
    "ls"
   ]
  },
  {
   "cell_type": "markdown",
   "metadata": {},
   "source": [
    "### Regular Expressions \n",
    "- used to specific pattern matching\n",
    "- symbolic notations of pattern matching\n",
    " - patterns(RE) represents set of values"
   ]
  },
  {
   "cell_type": "code",
   "execution_count": null,
   "metadata": {},
   "outputs": [],
   "source": []
  }
 ],
 "metadata": {
  "kernelspec": {
   "display_name": "Python 3",
   "language": "python",
   "name": "python3"
  },
  "language_info": {
   "codemirror_mode": {
    "name": "ipython",
    "version": 3
   },
   "file_extension": ".py",
   "mimetype": "text/x-python",
   "name": "python",
   "nbconvert_exporter": "python",
   "pygments_lexer": "ipython3",
   "version": "3.7.3"
  }
 },
 "nbformat": 4,
 "nbformat_minor": 2
}
